{
 "cells": [
  {
   "cell_type": "markdown",
   "metadata": {},
   "source": [
    "## Data Cleaning\n",
    "\n",
    "* Data cleaning is data set specific but there are some common problems\n",
    "    * Missing values\n",
    "    * Duplicates\n",
    "    * Reporting or collection bias or drift\n",
    "    * Reporting or collection errors\n",
    "* Data cleaning is more effective when it is combined with visualization and some preliminary modeling\n",
    "* Decribe all the steps you take to load and clean the data so that you and others can repeat the process"
   ]
  },
  {
   "cell_type": "markdown",
   "metadata": {},
   "source": [
    "### In Class Exercise\n",
    "\n",
    "Use your functions or the ones below to load the train data into a dataframe and combine all the narrative fields into one variable: Narrative. Optionally, remove the previous narrative columns."
   ]
  },
  {
   "cell_type": "code",
   "execution_count": 1,
   "metadata": {
    "collapsed": true
   },
   "outputs": [],
   "source": [
    "# Packages for loading, cleaning, visualization, and analysis\n",
    "\n",
    "# Data\n",
    "import pandas as pd\n",
    "import numpy as np\n",
    "import scipy as sp\n",
    "import os\n",
    "import string as st\n"
   ]
  },
  {
   "cell_type": "code",
   "execution_count": 2,
   "metadata": {
    "collapsed": true
   },
   "outputs": [],
   "source": [
    "# Function to get the files from a directory\n",
    "\n",
    "def getallfiles(directory, extension = \".txt\"):\n",
    "    '''Get all files in directory with the specified extension\n",
    "        and put them into a list.\n",
    "        The default extension is txt. The directory parameter is the path to \n",
    "        the directory containing the files.'''\n",
    "    filenames = os.listdir(directory)\n",
    "    myfiles = []\n",
    "    for e in filenames:\n",
    "        if e.endswith(extension):\n",
    "            myfiles.append(os.path.realpath(e))\n",
    "    return myfiles\n",
    "\n",
    "\n"
   ]
  },
  {
   "cell_type": "code",
   "execution_count": 3,
   "metadata": {
    "collapsed": true
   },
   "outputs": [],
   "source": [
    "def createlist(directory, extension = \".txt\"):\n",
    "    '''Put all files in the specified directory\n",
    "    with the chosen extension (txt is the default) \n",
    "    into a datafame'''\n",
    "    os.chdir(directory)\n",
    "    files = getallfiles(directory)\n",
    "    filelist = []\n",
    "    for i,file in enumerate(files):\n",
    "        filelist.append(pd.read_csv(os.path.realpath(file), low_memory = False, encoding = \"ISO-8859-1\"))\n",
    "    return(filelist)\n"
   ]
  },
  {
   "cell_type": "code",
   "execution_count": null,
   "metadata": {
    "collapsed": true
   },
   "outputs": [],
   "source": [
    "# Join the narrative and put them in a list\n",
    "\n",
    "def join_narratives(DF):\n",
    "    '''With the input of the accident dataframe\n",
    "    merge the narrative columns into a single narrative\n",
    "    and return a list of these single narratives for each\n",
    "    accident report in the dataframe. '''\n",
    "    narrlist = []\n",
    "    for i in range(0,15):\n",
    "        a = str(i+1)\n",
    "        narrlist.append('NARR'+ a)\n",
    "    RailNarr = DF.loc[:, narrlist]\n",
    "    Narratives = []\n",
    "    for i, _ in enumerate(RailNarr[\"NARR1\"]):\n",
    "        NarrativeList = RailNarr.iloc[i]\n",
    "        Anarrative = \"\"\n",
    "        for narr in NarrativeList:\n",
    "            if pd.isnull(narr):\n",
    "                break\n",
    "            else:\n",
    "                Anarrative += str(narr)\n",
    "    Narratives.append(Anarrative)"
   ]
  },
  {
   "cell_type": "markdown",
   "metadata": {},
   "source": [
    "## Duplicates\n",
    "\n",
    "- Why should we remove duplicates?\n",
    "- How should we remove them?"
   ]
  },
  {
   "cell_type": "markdown",
   "metadata": {},
   "source": [
    "## Missing Values\n",
    "\n",
    "There are essentially 3 ways to handle missing values:\n",
    "\n",
    "    1. Remove the columns (variables) with missing values\n",
    "    2. Remove the row (observations) with missing values\n",
    "    3. Impute the missing values\n",
    "\n",
    "The choice of which of these to use depends on the problem and the data. If a variable does not seem important to the problem or if it has many missing values, then eliminating it is reasonable. Similarly if the observation appears to not represent the data or if it has many missing values, then eliminating it seems reasonable.\n",
    "Imputation\n",
    "\n",
    "Imputation can be done in may ways. The most common are the following:\n",
    "\n",
    "    1. Replace the missing value with the mean\n",
    "    2. Replace the missing value with the median\n",
    "    3. Replace the missing value with the mode\n",
    "    4. Use k-nn to\n",
    "        1. Replace the missing value with the mean\n",
    "        2. Replace the missing value with the median\n",
    "        3. Replace the missing value with the mode\n",
    " \n",
    "Options 1 and 2 can only be used with numeric or quantitative variables."
   ]
  },
  {
   "cell_type": "markdown",
   "metadata": {},
   "source": [
    "### In Class Exercise\n",
    "\n",
    "1. Find out how many missing values we have by column (variable).\n",
    "2. What technique or techniques should we use to handle them?\n",
    "3. What methods from pandas or sklearn can we use for imputation? Why or how would we use them?"
   ]
  },
  {
   "cell_type": "code",
   "execution_count": null,
   "metadata": {
    "collapsed": true
   },
   "outputs": [],
   "source": [
    "# This class imputes the missing values as\n",
    "# (1) most frequent if the variable is categorical \n",
    "# (2) mean if the variable is real (floating point)\n",
    "# (3) median if the variable is an integer \n",
    "\n",
    "# Here is a class that will provide imputation\n",
    "# This is an extension by D.Brown to sveitser, 2014 https://stackoverflow.com/users/469992/sveitser\n",
    "\n",
    "from sklearn.base import TransformerMixin\n",
    "\n",
    "class DataFrameImputer(TransformerMixin):\n",
    "\n",
    "    def __init__(self):\n",
    "        \"\"\"Impute missing values.\n",
    "\n",
    "        Columns of dtype object are imputed with the most frequent value \n",
    "        in column.\n",
    "        \n",
    "        Columns of dtype floating point are imputed with the mean.\n",
    "\n",
    "        Columns of other types are imputed with median of the column.\n",
    "\n",
    "        \"\"\"\n",
    "    def fit(self, X, y=None):\n",
    "\n",
    "        self.fill = pd.Series([X[c].value_counts().index[0]\n",
    "            if X[c].dtype == np.dtype('O') \n",
    "                               else X[c].mean() if X[c].dtype == np.dtype('f')\n",
    "                                else X[c].median() for c in X],\n",
    "            index=X.columns)\n",
    "\n",
    "        return self\n",
    "\n",
    "    def transform(self, X, y=None):\n",
    "        return X.fillna(self.fill)\n"
   ]
  },
  {
   "cell_type": "markdown",
   "metadata": {},
   "source": [
    "## Categorical Variables\n",
    "\n",
    "Categorical variables must be treated differently from quantitative variables. Their effects on the modeling\n",
    "and machine learning depend on correctly coding them for the analysis. \n",
    "\n",
    "Categorical variables can be entered in many diffent ways. Data scientists should inspect the coding \n",
    "of these variables to insure correctness, approrpriateness for modeling, and easy interpretation."
   ]
  },
  {
   "cell_type": "markdown",
   "metadata": {},
   "source": [
    "### In Class Exercise\n",
    "\n",
    "1. Look at the data types for the variables.\n",
    "2. Which variables are categorical? Look at some of their value_counts()\n",
    "3. Which variables are categorical but are coded as integers? Which variables are integers but coded as objects?\n",
    "4. Replace integer values for TYPE with the text labels. Repeat for one other variable."
   ]
  }
 ],
 "metadata": {
  "kernelspec": {
   "display_name": "Python 2",
   "language": "python",
   "name": "python2"
  },
  "language_info": {
   "codemirror_mode": {
    "name": "ipython",
    "version": 2
   },
   "file_extension": ".py",
   "mimetype": "text/x-python",
   "name": "python",
   "nbconvert_exporter": "python",
   "pygments_lexer": "ipython2",
   "version": "2.7.13"
  }
 },
 "nbformat": 4,
 "nbformat_minor": 2
}
