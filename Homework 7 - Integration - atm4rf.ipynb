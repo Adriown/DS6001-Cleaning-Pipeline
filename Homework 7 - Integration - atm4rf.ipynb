{
 "cells": [
  {
   "cell_type": "markdown",
   "metadata": {},
   "source": [
    "# Homework 7 - Adrian Mead\n",
    "## Data Loading and Integration\n",
    "\n",
    "### Assignment:\n",
    "1. Submit a jupyter notebook with functions that load each year of the train accident data into a pandas dataframe.\n",
    "2. This dataframe should also include a variable, Narrative, that integrates the separate narrative fields into one column."
   ]
  },
  {
   "cell_type": "code",
   "execution_count": 32,
   "metadata": {
    "collapsed": true
   },
   "outputs": [],
   "source": [
    "# Packages for loading, cleaning, visualization, and analysis\n",
    "\n",
    "# Data\n",
    "import pandas as pd\n",
    "import numpy as np\n",
    "import scipy as sp\n",
    "import os\n",
    "import string as st"
   ]
  },
  {
   "cell_type": "markdown",
   "metadata": {},
   "source": [
    "1. Functions that load each year of the train accident data into a pandas dataframe."
   ]
  },
  {
   "cell_type": "code",
   "execution_count": 18,
   "metadata": {},
   "outputs": [],
   "source": [
    "# I have my own function that will pull each year of the train data in a panda df\n",
    "# You pass a directory and it returns a list of pandas dataframes\n",
    "def getListDataFrames(path):\n",
    "    # initialize an empty list\n",
    "    csvs = list()\n",
    "    # Get all the files in the directory\n",
    "    all_files = os.listdir(path)\n",
    "    # Iterate across each of the files in the Data folder\n",
    "    for fileName in all_files:\n",
    "        # Get the full path name\n",
    "        fileToPull = path + fileName\n",
    "        # Read in the data at that location\n",
    "        filesOfInterest = pd.read_csv(fileToPull, index_col = False, low_memory = False)\n",
    "        csvs.append(filesOfInterest)\n",
    "    return csvs\n",
    "\n",
    "# Here is the list of 16 pandas dataframes corresponding to 2001 thru 2016\n",
    "listOfAccidents = getListDataFrames('/Users/mead/Fall2017/DonBrown-DS6001/InClass1/Data/')"
   ]
  },
  {
   "cell_type": "code",
   "execution_count": 20,
   "metadata": {},
   "outputs": [
    {
     "name": "stdout",
     "output_type": "stream",
     "text": [
      "Length of the list: 16\n",
      "Shape of the 16 years of accidents data: (51623, 153)\n"
     ]
    }
   ],
   "source": [
    "# How many elements are in the list\n",
    "print(\"Length of the list: \" + str(len(listOfAccidents)))\n",
    "\n",
    "# Now to append all the list elements together into one pandas df\n",
    "acc_df = pd.concat(listOfAccidents, ignore_index = True)\n",
    "print(\"Shape of the 16 years of accidents data: \" + str(acc_df.shape))"
   ]
  },
  {
   "cell_type": "markdown",
   "metadata": {},
   "source": [
    "#2. This dataframe should also include a variable, Narrative, that integrates the separate narrative fields into one column."
   ]
  },
  {
   "cell_type": "code",
   "execution_count": 23,
   "metadata": {
    "collapsed": true
   },
   "outputs": [],
   "source": [
    "# Produce a function to add all of the Narratives together\n",
    "# Takes the index of the NARR1 column as input alongside the dataframe of interest. \n",
    "# It outputs the full Narrative column\n",
    "def combineNARR(NARR1index, dataFrme):\n",
    "# Initialize an empty list of all narratives\n",
    "    allAccs = list()\n",
    "    # Iterate across every row\n",
    "    for acc in range(len(dataFrme.index)):\n",
    "        # Initialize an empty list of each row's narrative\n",
    "        fullNarr = list()\n",
    "        # Iterate across every NARR column\n",
    "        for narr in range(15):\n",
    "            index = narr + NARR1index[0]\n",
    "            # Keep track of the value in that NARR column for that row\n",
    "            narrElement = str(dataFrme.iloc[acc, index])\n",
    "            fullNarr.append(narrElement)\n",
    "        allAccs.append(fullNarr)\n",
    "    return allAccs\n",
    "\n",
    "# This is the which function which keeps track of where NARR1 is\n",
    "which = lambda lst:list(np.where(lst)[0])\n",
    "NARR1index = which([name == 'NARR1' for name in acc_df.columns])\n",
    "\n",
    "# Run the function -- output is a list of lists\n",
    "newColumn = combineNARR(NARR1index, acc_df)\n",
    "\n",
    "# Combine all the NARR together for each row. Make sure to remove the NAs\n",
    "Narratives = [''.join([sentence for sentence in NARR if sentence != 'nan']) for NARR in newColumn]\n",
    "# Add this as a new column for the accidents df\n",
    "acc_df['Narrative'] = pd.Series(Narratives, index=acc_df.index)"
   ]
  },
  {
   "cell_type": "code",
   "execution_count": 29,
   "metadata": {},
   "outputs": [
    {
     "name": "stdout",
     "output_type": "stream",
     "text": [
      "The first 5 narratives: ['UNITS 231-281(BACK TO BACK)  WERE COMING INTO UP DEISEL SHOP  WHEN THE LEFT WHEEL OF 281 RODE OVER RECENTLY REPAIRED SWITCH PLATE AND DERAILED. THE CAUSE WAS DETERMINED TO BE THE TRACK TELEMETRY IN THAT IT WAS TOO SHARP OF A CURVE.', 'ENGINE 286 CAUGHT FIRE AT THE SPRINGFIELD, MA STATION DUE TO BEARINGS IN MAIN GENERATOR LET GO.', 'TRAIN NO.#4 WITH ENGS 83/11/90/44 AND 11 CARS DERAILED 2 DEADHEAD CARS, C/44834 AND C/9639, WHILE MAKING A SHOVING MOVE ONTO TRACK 28.  THE DERAILMENT WAS DUE TO HIGH BUFF FORCES CAUSED JACKKNIFING OFDEADHEADING AMFLEET CAR 44834 LOCATED DIRECTLY BEHIND ENGINES DUE TO EXCESSIVE AMPERAGE GENERATED BY FOUR P42 LOCOMOTIVES SHOVING TRAIN AGAINST AN APPROXIMATELY 15-POUND BRAKE REDUCTION.', 'WHILE SHOVING TRAIN 624 SOUTH ON #30 TRACK AT PENN COACH YARD, CONDUCTOR FAILED TO STOP FOR A DERAILAND 2 CARS DERAILED .']\n"
     ]
    }
   ],
   "source": [
    "# Output for the first 5 narratives\n",
    "print(\"The first 5 narratives: \" + str(Narratives[0:4]))"
   ]
  },
  {
   "cell_type": "code",
   "execution_count": 30,
   "metadata": {
    "collapsed": true
   },
   "outputs": [],
   "source": [
    "# Also going to remove the old NARR columns\n",
    "# Drop old narrative columns\n",
    "narrList = []\n",
    "for i in range(0,15):\n",
    "    a = str(i + 1)\n",
    "    narrList.append('NARR' + a)\n",
    "acc_df.drop(narrList, axis = 1, inplace = True)"
   ]
  },
  {
   "cell_type": "code",
   "execution_count": 31,
   "metadata": {},
   "outputs": [
    {
     "name": "stdout",
     "output_type": "stream",
     "text": [
      "                                           Narrative\n",
      "0  UNITS 231-281(BACK TO BACK)  WERE COMING INTO ...\n",
      "1  ENGINE 286 CAUGHT FIRE AT THE SPRINGFIELD, MA ...\n",
      "2  TRAIN NO.#4 WITH ENGS 83/11/90/44 AND 11 CARS ...\n",
      "3  WHILE SHOVING TRAIN 624 SOUTH ON #30 TRACK AT ...\n",
      "4  TRAIN 786 WAS STRUCK BY A FALLING TREE SOUTH O...\n"
     ]
    }
   ],
   "source": [
    "# The output of the new Narrative column\n",
    "print(acc_df[['Narrative']].head())"
   ]
  }
 ],
 "metadata": {
  "kernelspec": {
   "display_name": "Python 2",
   "language": "python",
   "name": "python2"
  },
  "language_info": {
   "codemirror_mode": {
    "name": "ipython",
    "version": 2
   },
   "file_extension": ".py",
   "mimetype": "text/x-python",
   "name": "python",
   "nbconvert_exporter": "python",
   "pygments_lexer": "ipython2",
   "version": "2.7.13"
  }
 },
 "nbformat": 4,
 "nbformat_minor": 2
}
