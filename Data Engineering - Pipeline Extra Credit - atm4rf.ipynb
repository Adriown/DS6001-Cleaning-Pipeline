{
 "cells": [
  {
   "cell_type": "markdown",
   "metadata": {},
   "source": [
    "## Extra Credit (5 points) - Transformation Pipelines\n",
    "\n",
    "I created a transformation pipeline using the Casualty, Major Cause, and Log of Accident Damage data transformation steps for the train accident data."
   ]
  },
  {
   "cell_type": "code",
   "execution_count": 116,
   "metadata": {},
   "outputs": [
    {
     "data": {
      "text/plain": [
       "(38167, 88)"
      ]
     },
     "execution_count": 116,
     "metadata": {},
     "output_type": "execute_result"
    }
   ],
   "source": [
    "# Load our orginial untransformed data\n",
    "\n",
    "path = \"/Users/mead/Fall2017/DonBrown-DS6001/InClass1/\"\n",
    "\n",
    "file = \"FullCleanedAdrian.csv\"\n",
    "\n",
    "accidents_clean_df = pd.read_csv(path + file, low_memory = False)\n",
    "\n",
    "accidents_clean_df.shape"
   ]
  },
  {
   "cell_type": "code",
   "execution_count": 127,
   "metadata": {
    "collapsed": true
   },
   "outputs": [],
   "source": [
    "# Creating Casualty transformation\n",
    "# two column input\n",
    "\n",
    "\n",
    "from sklearn.base import BaseEstimator, TransformerMixin\n",
    "\n",
    "class CasualtiesAdder(BaseEstimator, TransformerMixin):\n",
    "    def _init_(self):\n",
    "        pass\n",
    "    def fit(self, X, y = None):\n",
    "        return self\n",
    "    def transform(self, X, y = None):\n",
    "        Casualties = X[:, 0] + X[:,1]\n",
    "        return Casualties\n",
    "    \n",
    "# Create the Major Cause transformation (first letter of the CAUSE)\n",
    "# only one column as input\n",
    "\n",
    "class MajorCauseAdder(BaseEstimator, TransformerMixin):\n",
    "    def _init_(self):\n",
    "        pass\n",
    "    def fit(self, X, y = None):\n",
    "        return self\n",
    "    def transform(self, X, y = None):\n",
    "        MajorCause = np.array([x[0][0] for x in X])\n",
    "        return MajorCause\n",
    "    \n",
    "# Create the LogACCDMG transformation (simply the log of ACCDMG)\n",
    "# only one column as input\n",
    "\n",
    "class LogACCDMGAdder(BaseEstimator, TransformerMixin):\n",
    "    def _init_(self):\n",
    "        pass\n",
    "    def fit(self, X, y = None):\n",
    "        return self\n",
    "    def transform(self, X, y = None):\n",
    "        LogACCDMG = np.log(X + 1)\n",
    "        return LogACCDMG\n",
    "    \n",
    "    \n",
    "\n",
    "# accidents_df['LogACCDMG'] = sp.log(accidents_df['ACCDMG'] + 1)"
   ]
  },
  {
   "cell_type": "code",
   "execution_count": 128,
   "metadata": {
    "collapsed": true
   },
   "outputs": [],
   "source": [
    "# Need to select columns from the data frame\n",
    "\n",
    "casualty_variables = ['TOTKLD', 'TOTINJ']\n",
    "cause_variable = ['CAUSE']\n",
    "logaccdmg_variable = ['ACCDMG']\n",
    "\n",
    "\n",
    "from sklearn.pipeline import FeatureUnion\n",
    "class DataFrameSelector(BaseEstimator, TransformerMixin):\n",
    "    def __init__(self, attribute_names):\n",
    "        self.attribute_names = attribute_names\n",
    "    def fit(self, X, y=None):\n",
    "        return self\n",
    "    def transform(self, X):\n",
    "        return X[self.attribute_names].values"
   ]
  },
  {
   "cell_type": "code",
   "execution_count": 129,
   "metadata": {
    "collapsed": true
   },
   "outputs": [],
   "source": [
    "# Pipeline\n",
    "\n",
    "from sklearn.pipeline import Pipeline\n",
    "\n",
    "traindata_casualty_pipeline = Pipeline([\n",
    "    ('selector', DataFrameSelector(attribute_names = casualty_variables)),\n",
    "    ('casualtyVar', CasualtiesAdder())\n",
    "])\n",
    "\n",
    "traindata_majorcause_pipeline = Pipeline([\n",
    "    ('selector', DataFrameSelector(attribute_names = cause_variable)),\n",
    "    ('majorCauseVar', MajorCauseAdder())\n",
    "])\n",
    "\n",
    "traindata_logaccdmg_pipeline = Pipeline([\n",
    "    ('selector', DataFrameSelector(attribute_names = logaccdmg_variable)),\n",
    "    ('logAccDmgVar', LogACCDMGAdder())\n",
    "])\n",
    "\n",
    "#    ('scaler', StandardScaler())\n",
    "#('majorCausesVar', CausalValueSelect())"
   ]
  },
  {
   "cell_type": "code",
   "execution_count": 130,
   "metadata": {},
   "outputs": [
    {
     "name": "stdout",
     "output_type": "stream",
     "text": [
      "0.123352634475\n",
      "\n",
      "H    14345\n",
      "T    12685\n",
      "M     5478\n",
      "E     4839\n",
      "S      820\n",
      "dtype: int64\n",
      "\n",
      "10.5161912774\n"
     ]
    }
   ],
   "source": [
    "# casualty_var_add = ()\n",
    "# accidents_df['Casualties'] = casualty_var_add.transform(accidents_df[['TOTKLD', 'TOTINJ']].values)\n",
    "# accidents_df['Casualties'].mean()\n",
    "\n",
    "casualty_array =  traindata_casualty_pipeline.fit_transform(accidents_clean_df)\n",
    "\n",
    "majorcause_array =  traindata_majorcause_pipeline.fit_transform(accidents_clean_df)\n",
    "\n",
    "logaccdmg_array =  traindata_logaccdmg_pipeline.fit_transform(accidents_clean_df)\n",
    "\n",
    "print(np.mean(casualty_array))\n",
    "print('')\n",
    "print(pd.value_counts(majorcause_array))\n",
    "print('')\n",
    "logaccdmg_array\n",
    "print(np.mean(logaccdmg_array))"
   ]
  }
 ],
 "metadata": {
  "kernelspec": {
   "display_name": "Python 2",
   "language": "python",
   "name": "python2"
  },
  "language_info": {
   "codemirror_mode": {
    "name": "ipython",
    "version": 2
   },
   "file_extension": ".py",
   "mimetype": "text/x-python",
   "name": "python",
   "nbconvert_exporter": "python",
   "pygments_lexer": "ipython2",
   "version": "2.7.13"
  }
 },
 "nbformat": 4,
 "nbformat_minor": 2
}
