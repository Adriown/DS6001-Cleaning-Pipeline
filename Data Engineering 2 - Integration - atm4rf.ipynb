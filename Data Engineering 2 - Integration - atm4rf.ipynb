{
 "cells": [
  {
   "cell_type": "markdown",
   "metadata": {},
   "source": [
    "#  Data Integration\n",
    "\n",
    "### Overview\n",
    "\n",
    "Most data do not come from single sources or data sets. To do \n",
    "analysis these data sets must be integrated or merged.\n",
    "\n",
    "Database managment systems have well-developed functions for \n",
    "merging data within their framework. However, in many cases we need\n",
    "to integrate data files that are not within a database management \n",
    "system.\n",
    "\n",
    "### Instructions\n",
    "\n",
    "This notebook provides guided instructions and exercies\n",
    "in data integration. Do the exercises yourself but you can consult\n",
    "with others in the class, use the text, and search for\n",
    "relevant materials on the web. \n",
    "\n",
    "Use of a combination of mardown and code cells to \n",
    "present your answers to the questions."
   ]
  },
  {
   "cell_type": "code",
   "execution_count": 1,
   "metadata": {
    "collapsed": true
   },
   "outputs": [],
   "source": [
    "# Start here with loading packages\n",
    "\n",
    "# Data handling\n",
    "\n",
    "import requests\n",
    "import numpy as np\n",
    "import pandas as pd\n",
    "import string as st\n",
    "import os\n",
    "\n",
    "\n",
    "\n"
   ]
  },
  {
   "cell_type": "markdown",
   "metadata": {},
   "source": [
    "## Exercise 1\n",
    "\n",
    "Load the data from the files for accidents in 2014-2016 into a dataframe and get its dimensions.\n",
    "To do this do the following:\n",
    "\n",
    "1. Create a function that turns a list of paths and file names into a list of dataframes\n",
    "2. Integrate the dataframes in the list into one data frame\n",
    "3. Are there any variables that only in some of the years? If so, look at their summaries.\n",
    "\n",
    "Hint: for the first step you will need to use os.path.realpath() with pd.read_csv."
   ]
  },
  {
   "cell_type": "markdown",
   "metadata": {},
   "source": [
    "## Exercise 1 Answers\n",
    "\n",
    "Load the data from the files for accidents in 2014-2016 into a dataframe and get its dimensions.\n",
    "To do this do the following:\n",
    "\n",
    "1. See below for the function\n",
    "2. Used pd.concat()\n",
    "3. Yes. The 2016 table has 1 fewer column than 2014 and 2015. It dropped the Amtrak column"
   ]
  },
  {
   "cell_type": "code",
   "execution_count": 4,
   "metadata": {},
   "outputs": [
    {
     "name": "stdout",
     "output_type": "stream",
     "text": [
      "[  AMTRAK  IYR  IMO RAILROAD     INCDTNO  IYR2  IMO2  RR2 INCDTNO2  IYR3  \\\n",
      "0    NaN   14    8     INRD      644191   NaN   NaN  NaN      NaN    14   \n",
      "1    NaN   14    8     BNSF   CA0814111   NaN   NaN  NaN      NaN    14   \n",
      "2    NaN   14    8     BNSF   KS0814107   NaN   NaN  NaN      NaN    14   \n",
      "3    NaN   14    8     BNSF   NE0814103   NaN   NaN  NaN      NaN    14   \n",
      "4    NaN   14   11      FEC  D147111214   NaN   NaN  NaN      NaN    14   \n",
      "\n",
      "       ...       NARR15  RCL Latitude  Longitud SIGNAL  MOPERA  ADJUNCT1  \\\n",
      "0      ...          NaN  0.0    39.03    -87.04      2     2.0       NaN   \n",
      "1      ...          NaN  0.0    32.69   -117.15      2     5.0       NaN   \n",
      "2      ...          NaN  3.0    38.04    -97.87      2     5.0         L   \n",
      "3      ...          NaN  0.0    41.24    -95.91      2     5.0         L   \n",
      "4      ...          NaN  0.0    30.23    -81.60      2     5.0         K   \n",
      "\n",
      "   ADJUNCT2  ADJUNCT3        SUBDIV  \n",
      "0       NaN       NaN  INDIANAPOLIS  \n",
      "1       NaN       NaN     SAN DIEGO  \n",
      "2       NaN       NaN       LAJUNTA  \n",
      "3       NaN       NaN         OMAHA  \n",
      "4       NaN       NaN        SYSTEM  \n",
      "\n",
      "[5 rows x 146 columns],   AMTRAK  IYR  IMO RAILROAD    INCDTNO  IYR2  IMO2  RR2 INCDTNO2  IYR3  \\\n",
      "0    NaN   15    2       UP  0215FW001   NaN   NaN  NaN      NaN    15   \n",
      "1    NaN   15    2       UP  0215FW019   NaN   NaN  NaN      NaN    15   \n",
      "2    NaN   15    2       UP  0215FW023   NaN   NaN  NaN      NaN    15   \n",
      "3    NaN   15    7      CSX  000148659   NaN   NaN  NaN      NaN    15   \n",
      "4    NaN   15    7      ARR    2015126   NaN   NaN  NaN      NaN    15   \n",
      "\n",
      "        ...         NARR15  RCL Latitude  Longitud SIGNAL  MOPERA  ADJUNCT1  \\\n",
      "0       ...            NaN  0.0    32.07    -96.46      2     5.0         L   \n",
      "1       ...            NaN  0.0    32.71    -97.32      2     5.0         K   \n",
      "2       ...            NaN  3.0    32.71    -96.75      2     5.0         K   \n",
      "3       ...            NaN  3.0    33.54    -86.79      2     5.0         K   \n",
      "4       ...            NaN  0.0    61.22   -149.88      2     5.0       NaN   \n",
      "\n",
      "   ADJUNCT2  ADJUNCT3           SUBDIV  \n",
      "0       NaN       NaN        ENNIS SUB  \n",
      "1       NaN       NaN     FT WORTH SUB  \n",
      "2       NaN       NaN        ENNIS SUB  \n",
      "3       NaN       NaN  BOYLES TERMINAL  \n",
      "4       NaN       NaN        ANCHORAGE  \n",
      "\n",
      "[5 rows x 146 columns],    IYR  IMO RAILROAD INCDTNO  IYR2  IMO2  RR2 INCDTNO2  IYR3  IMO3  \\\n",
      "0   16    5      CSX  159652   NaN   NaN  NaN      NaN    16     5   \n",
      "1   16    1      CSX  156546   NaN   NaN  NaN      NaN    16     1   \n",
      "2   16    1      CSX  156546   NaN   NaN  NaN      NaN    16     1   \n",
      "3   16    2       NS  119221   NaN   NaN  NaN      NaN    16     2   \n",
      "4   16    2       NS  119221   NaN   NaN  NaN      NaN    16     2   \n",
      "\n",
      "           ...          NARR15  RCL   Latitude   Longitud  SIGNAL  MOPERA  \\\n",
      "0          ...             NaN  1.0  39.759792 -86.327527       2       5   \n",
      "1          ...             NaN  0.0  39.759792 -86.327527       2       5   \n",
      "2          ...             NaN  0.0  39.759792 -86.327527       2       5   \n",
      "3          ...             NaN  0.0  32.813658 -83.622785       2       5   \n",
      "4          ...             NaN  0.0  32.813658 -83.622785       2       5   \n",
      "\n",
      "   ADJUNCT1  ADJUNCT2  ADJUNCT3                SUBDIV  \n",
      "0       NaN       NaN       NaN  INDIANAPOLIS TERMINA  \n",
      "1       NaN       NaN       NaN  INDIANAPOLIS TERMINA  \n",
      "2       NaN       NaN       NaN  INDIANAPOLIS TERMINA  \n",
      "3         K       NaN       NaN               GEORGIA  \n",
      "4         K       NaN       NaN               GEORGIA  \n",
      "\n",
      "[5 rows x 145 columns]]\n",
      "             ACCDMG       ACCTRK     ALCOHOL     BRAKEMEN     CABOOSE1  \\\n",
      "count  7.117000e+03  7117.000000  2274.00000  6856.000000  7117.000000   \n",
      "mean   1.801056e+05     1.858929     0.00044     0.236144     0.003653   \n",
      "std    1.379135e+06     0.832717     0.02097     0.466325     0.060336   \n",
      "min    0.000000e+00     1.000000     0.00000     0.000000     0.000000   \n",
      "25%    1.740000e+04     1.000000     0.00000     0.000000     0.000000   \n",
      "50%    3.248700e+04     2.000000     0.00000     0.000000     0.000000   \n",
      "75%    8.400000e+04     2.000000     0.00000     0.000000     0.000000   \n",
      "max    6.693422e+07     4.000000     1.00000     5.000000     1.000000   \n",
      "\n",
      "          CABOOSE2        CARNBR2         CARS      CARSDMG      CARSHZD  \\\n",
      "count  7117.000000     763.000000  7117.000000  7117.000000  7117.000000   \n",
      "mean      0.001124  195106.521625     3.266545     0.281439     0.015877   \n",
      "std       0.033511  289918.383725    11.826109     1.445238     0.330058   \n",
      "min       0.000000       1.000000     0.000000     0.000000     0.000000   \n",
      "25%       0.000000    5446.000000     0.000000     0.000000     0.000000   \n",
      "50%       0.000000   24080.000000     0.000000     0.000000     0.000000   \n",
      "75%       0.000000  300893.000000     0.000000     0.000000     0.000000   \n",
      "max       1.000000  992289.000000   169.000000    49.000000    20.000000   \n",
      "\n",
      "          ...            TOTKLD        TRKDMG       TRNDIR       TRNSPD  \\\n",
      "count     ...       7117.000000  7.117000e+03  6795.000000  7117.000000   \n",
      "mean      ...          0.017845  4.222775e+04     2.641943    11.825488   \n",
      "std       ...          0.197914  1.853178e+05     1.105147    16.765776   \n",
      "min       ...          0.000000  0.000000e+00     1.000000     0.000000   \n",
      "25%       ...          0.000000  0.000000e+00     2.000000     3.000000   \n",
      "50%       ...          0.000000  1.305000e+03     3.000000     5.000000   \n",
      "75%       ...          0.000000  1.645400e+04     4.000000    10.000000   \n",
      "max       ...          8.000000  4.600000e+06     4.000000   132.000000   \n",
      "\n",
      "              TYPE       TYPTRK     VISIBLTY      WEATHER         YEAR  \\\n",
      "count  7117.000000  7117.000000  7117.000000  7117.000000  7117.000000   \n",
      "mean      4.210763     1.859913     2.762119     1.514543    14.973303   \n",
      "std       4.443921     0.832293     1.050059     0.961144     0.800412   \n",
      "min       1.000000     1.000000     1.000000     1.000000    14.000000   \n",
      "25%       1.000000     1.000000     2.000000     1.000000    14.000000   \n",
      "50%       1.000000     2.000000     2.000000     1.000000    15.000000   \n",
      "75%       7.000000     2.000000     4.000000     2.000000    16.000000   \n",
      "max      13.000000     4.000000     4.000000     6.000000    16.000000   \n",
      "\n",
      "             YEAR4  \n",
      "count  7117.000000  \n",
      "mean   2014.973303  \n",
      "std       0.800412  \n",
      "min    2014.000000  \n",
      "25%    2014.000000  \n",
      "50%    2015.000000  \n",
      "75%    2016.000000  \n",
      "max    2016.000000  \n",
      "\n",
      "[8 rows x 93 columns]\n",
      "[(2377, 146), (2553, 146), (2187, 145)]\n",
      "False\n",
      "True\n"
     ]
    }
   ],
   "source": [
    "# Exercise 1\n",
    "\n",
    "# 1\n",
    "def getListDataFrames(paths, filenames):\n",
    "    csvs = list()\n",
    "    for i in range(len(paths)):\n",
    "        fileToPull = paths[i] + filenames[i]\n",
    "        csvOfInterest = pd.read_csv(fileToPull, index_col = False)\n",
    "        csvs.append(csvOfInterest)\n",
    "    return csvs\n",
    "\n",
    "paths = ['/Users/mead/Fall2017/DonBrown-DS6001/InClass1/Data/', \n",
    "         '/Users/mead/Fall2017/DonBrown-DS6001/InClass1/Data/', \n",
    "         '/Users/mead/Fall2017/DonBrown-DS6001/InClass1/Data/']\n",
    "files = ['RailAccidents14.txt',\n",
    "        'RailAccidents15.txt',\n",
    "        'RailAccidents16.txt']\n",
    "listOfAccidents = getListDataFrames(paths,files)\n",
    "print([df.head() for df in listOfAccidents])\n",
    "\n",
    "# 2\n",
    "dataFrameOfAccidents = pd.concat(listOfAccidents)\n",
    "print(dataFrameOfAccidents.describe())\n",
    "\n",
    "# 3\n",
    "print([df.shape for df in listOfAccidents])\n",
    "colnames = [df.columns for df in listOfAccidents]\n",
    "print(colnames[1].equals(colnames[2])) \n",
    "print(colnames[0].equals(colnames[1]))\n",
    "\n",
    "# It looks like all of the accident reports for 14-15 have the same columns now but that 2016 has 1 less column\n",
    "#pd.isnull(dataFrameOfAccidents)"
   ]
  },
  {
   "cell_type": "code",
   "execution_count": 5,
   "metadata": {},
   "outputs": [
    {
     "data": {
      "text/plain": [
       "(7117, 146)"
      ]
     },
     "execution_count": 5,
     "metadata": {},
     "output_type": "execute_result"
    }
   ],
   "source": [
    "dataFrameOfAccidents.shape"
   ]
  },
  {
   "cell_type": "code",
   "execution_count": 6,
   "metadata": {},
   "outputs": [
    {
     "data": {
      "text/plain": [
       "{'AMTRAK'}"
      ]
     },
     "execution_count": 6,
     "metadata": {},
     "output_type": "execute_result"
    }
   ],
   "source": [
    "set(listOfAccidents[1]) - set(listOfAccidents[2])"
   ]
  },
  {
   "cell_type": "code",
   "execution_count": 7,
   "metadata": {},
   "outputs": [
    {
     "data": {
      "text/html": [
       "<div>\n",
       "<style>\n",
       "    .dataframe thead tr:only-child th {\n",
       "        text-align: right;\n",
       "    }\n",
       "\n",
       "    .dataframe thead th {\n",
       "        text-align: left;\n",
       "    }\n",
       "\n",
       "    .dataframe tbody tr th {\n",
       "        vertical-align: top;\n",
       "    }\n",
       "</style>\n",
       "<table border=\"1\" class=\"dataframe\">\n",
       "  <thead>\n",
       "    <tr style=\"text-align: right;\">\n",
       "      <th></th>\n",
       "      <th>AMTRAK</th>\n",
       "    </tr>\n",
       "  </thead>\n",
       "  <tbody>\n",
       "    <tr>\n",
       "      <th>count</th>\n",
       "      <td>290</td>\n",
       "    </tr>\n",
       "    <tr>\n",
       "      <th>unique</th>\n",
       "      <td>1</td>\n",
       "    </tr>\n",
       "    <tr>\n",
       "      <th>top</th>\n",
       "      <td>K</td>\n",
       "    </tr>\n",
       "    <tr>\n",
       "      <th>freq</th>\n",
       "      <td>290</td>\n",
       "    </tr>\n",
       "  </tbody>\n",
       "</table>\n",
       "</div>"
      ],
      "text/plain": [
       "       AMTRAK\n",
       "count     290\n",
       "unique      1\n",
       "top         K\n",
       "freq      290"
      ]
     },
     "execution_count": 7,
     "metadata": {},
     "output_type": "execute_result"
    }
   ],
   "source": [
    "dataFrameOfAccidents[['AMTRAK']].describe()"
   ]
  },
  {
   "cell_type": "markdown",
   "metadata": {},
   "source": [
    "## Exercise 2\n",
    "\n",
    "1. Combine the narrative fields for the three years dataframe into a list\n",
    "2. Add a new narrative variable to the three years data frame \n",
    "3. Show the narratives from the first five accidents"
   ]
  },
  {
   "cell_type": "markdown",
   "metadata": {},
   "source": [
    "## Exercise 2 Answers\n",
    "\n",
    "1. Already pretty much wrote this in Data Engineering 1\n",
    "2. Easy to append a column. Also remove nan's\n",
    "3. Do this for both the first 5 entries and the earliest entries"
   ]
  },
  {
   "cell_type": "code",
   "execution_count": 96,
   "metadata": {},
   "outputs": [
    {
     "name": "stdout",
     "output_type": "stream",
     "text": [
      "[80]\n"
     ]
    }
   ],
   "source": [
    "# Exercise 2\n",
    "\n",
    "# 1 - Successfully add all the Narratives together\n",
    "def combineNARR(NARR1index, dataFrme):\n",
    "    allAccs = list()\n",
    "    for acc in range(len(dataFrme.index)):\n",
    "        fullNarr = list()\n",
    "        for narr in range(15):\n",
    "            index = narr + NARR1index[0]\n",
    "            narrElement = str(dataFrme.iloc[acc, index])\n",
    "            fullNarr.append(narrElement)\n",
    "        allAccs.append(fullNarr)\n",
    "    return allAccs\n",
    "\n",
    "which = lambda lst:list(np.where(lst)[0])\n",
    "NARR1index = which([name == 'NARR1' for name in dataFrameOfAccidents.columns])\n",
    "print(NARR1index)\n",
    "# Run the function\n",
    "newColumn = combineNARR(NARR1index, dataFrameOfAccidents)\n"
   ]
  },
  {
   "cell_type": "code",
   "execution_count": 90,
   "metadata": {},
   "outputs": [
    {
     "name": "stdout",
     "output_type": "stream",
     "text": [
      "0    ENGINEER STARTED TO PULL TRAIN AHEAD WHEN HE W...\n",
      "1    Y-SDG2321-13 DERAILED 3 ARTICULATED RAILCARS W...\n",
      "2    RCO Y-HUT2422-29 DERAILED 13 CARS WHILE SHOVIN...\n",
      "3    H-GALLIN1-11 DERAILED 7 CARS AND CAUSED SIGNIF...\n",
      "4    WHILE DOUBLING A CUT OF CARS, CREW SHOVED OUT ...\n",
      "Name: NARRTOT, dtype: object\n",
      "\n",
      "\n",
      "1307    PANTOGRAPHS TORN OFF MU #1483 AND #1331 ON TRA...\n",
      "1510    CWELH1-26 DERAILED 1 LOCOMOTIVE AND 4 CARS WHI...\n",
      "527     YSJ55R-02 WHILE SPOTTING AMP TRACK, DERAILED 2...\n",
      "2366    JOB 341-01 SWITCHING AT MCH YD. FOREMAN FAILED...\n",
      "2374    JOB 341-01 SWITCHING AT MCH YD. FOREMAN FAILED...\n",
      "Name: NARRTOT, dtype: object\n"
     ]
    }
   ],
   "source": [
    "# 2 - Get all the NARR together without any 'nan'\n",
    "newNARR = [''.join([sentence for sentence in NARR if sentence != 'nan']) for NARR in newColumn]\n",
    "dataFrameOfAccidents['NARRTOT'] = pd.Series(newNARR, index=dataFrameOfAccidents.index)\n",
    "\n",
    "# 3 - Displays the first 5 listed accidents\n",
    "print(dataFrameOfAccidents['NARRTOT'].head(5))\n",
    "# Also going to display 'first' as in the very earliest\n",
    "\n",
    "print(\"\\n\")\n",
    "\n",
    "sortedAccidents = dataFrameOfAccidents.sort_values(['YEAR', 'MONTH', 'DAY', 'TIMEHR', 'TIMEMIN'], ascending=[1, 1, 1, 1, 1])\n",
    "print(sortedAccidents['NARRTOT'].head(5))"
   ]
  },
  {
   "cell_type": "code",
   "execution_count": 95,
   "metadata": {},
   "outputs": [
    {
     "data": {
      "text/plain": [
       "['ENGINEER STARTED TO PULL TRAIN AHEAD WHEN HE WAS RADIOED TO STOP, CARS ON GROUND. INVESTIGATION FOUND THREE CARS ON GROUND. ALSO FOUND PREVIOUS CREW POSSIBLY LINED SWITCH WRONG WHICH CAUSED THE DERAILMENT.',\n",
       " 'Y-SDG2321-13 DERAILED 3 ARTICULATED RAILCARS WHILE PULLING OUT OF YARD TRACK 9802 DUE TO TRACK WIDEGAGE. NO HAZARDOUS MATERIALS WERE RELEASED.',\n",
       " 'RCO Y-HUT2422-29 DERAILED 13 CARS WHILE SHOVING YARD TRACK 107 DUE TO EXCESSIVE BUFFING OR SLACK ACTION. NO HAZARDOUS MATERIALS WERE RELEASED.',\n",
       " 'H-GALLIN1-11 DERAILED 7 CARS AND CAUSED SIGNIFICANT TRACK DAMAGE WHILE SHOVING INTO YARD TRACK 153 DUE TO FAILURES TO CONTROL SHOVE MOVEMENT/RUN THROUGH SWITCH. NO HAZARDOUS MATERIALS WERE RELEASED.',\n",
       " 'WHILE DOUBLING A CUT OF CARS, CREW SHOVED OUT OF A TRACK (SOUTH) TO A COUPLING.  AFTER THE COUPLINGWAS MADE, THEY PULLED NORTH WHEN FOUR CARS DERAILED AT A SWITCH.  NO PERSONAL INJURIES WERE SUSTAINED.']"
      ]
     },
     "execution_count": 95,
     "metadata": {},
     "output_type": "execute_result"
    }
   ],
   "source": [
    "newNARR[0:5]"
   ]
  },
  {
   "cell_type": "markdown",
   "metadata": {},
   "source": [
    "## Exercise 3\n",
    "\n",
    "Get the narratives for the following\n",
    "\n",
    "1. Most costly accident\n",
    "2. Accident with the most fatalities\n",
    "3. Accident with the most injuries\n",
    "4. Accident with the most hazmat cars damaged\n"
   ]
  },
  {
   "cell_type": "markdown",
   "metadata": {},
   "source": [
    "## Exercise 3 Answers\n",
    "\n",
    "Get the narratives for the following\n",
    "\n",
    "1. Most costly accident - $66,934,217\n",
    "2. Accident with the most fatalities - 8\n",
    "3. Accident with the most injuries - 226\n",
    "4. Accident with the most hazmat cars damaged - 49"
   ]
  },
  {
   "cell_type": "code",
   "execution_count": 91,
   "metadata": {},
   "outputs": [
    {
     "name": "stdout",
     "output_type": "stream",
     "text": [
      "66934217.0\n",
      "K21014 WAS ON DUTY IN TAMPA AT 1930 ON NOVEMBER 15, 2016 AND DEPARTED AT 2350. K21014 WAS TRAVELINGIN A NORTHBOUND DIRECTION TOWARDS WAYCROSS. AT 0352, K21014 PASSED THE SE SPARR CP (S720.9). SHORTLYAFTER, K21014 PASSED A STOP SIGNAL AT THE NE SPARR CP (S718.6) AND IMPACTED THE 19TH CAR( TILX 47166) OF THE SOUTHBOUND N00113 LOADED COAL TRAIN. N00113 WAS GOING INTO THE SSDG ON SIGNAL INDICATION.THE SPEED OF K21014 AT IMPACT WAS 38 MPH.   CREWS HAVE BEEN TRANSPORTED TO THE MEDICAL CENTER IN STARKE FOR POST ACCIDENT TESTING. NO INJURIES HAVE BEEN REPORTED.\n"
     ]
    }
   ],
   "source": [
    "#1 - Most costly\n",
    "sortedAccidents = dataFrameOfAccidents.sort_values(['ACCDMG'], ascending=[0])\n",
    "print(str(sortedAccidents['ACCDMG'].head(1).iloc[0]))\n",
    "print(str(sortedAccidents['NARRTOT'].head(1).iloc[0]))"
   ]
  },
  {
   "cell_type": "code",
   "execution_count": 92,
   "metadata": {},
   "outputs": [
    {
     "name": "stdout",
     "output_type": "stream",
     "text": [
      "8.0\n",
      "TRAIN 188 WITH LOCOMOTIVE E/601 AND 7 CARS DERAILED AT MP 81.7 WHILE OPERATING EAST ON # 2 TRACK.  THE FIRST 4 CARS IN THE CONSIST COMPLETELY DERAILED, WITH THE FIRST 3 CARS ON THEIR SIDE AND THE ENGINE CAME TO REST A DISTANCE AWAY IN CONRAIL FRANKFORD YARD. THREE (3) CLASS B EMPLOYEES WERE DEADHEADING TO AND OR HOME FROM WORK AND ONE (1) TRAIN ATTENDANT ALSO RECEIVED AN INJURY. THE PRIMARY CAUSEOF THE INCIDENT REMAINS UNDER INVESTIGATION.  AMTRAKS EQUIPMENT DAMAGE IS  $27,140,000.00.\n"
     ]
    }
   ],
   "source": [
    "#2 - Most fatalities\n",
    "sortedAccidents = dataFrameOfAccidents.sort_values(['TOTKLD'], ascending=[0])\n",
    "print(str(sortedAccidents['TOTKLD'].head(1).iloc[0]))\n",
    "print(str(sortedAccidents['NARRTOT'].head(1).iloc[0]))"
   ]
  },
  {
   "cell_type": "code",
   "execution_count": 93,
   "metadata": {},
   "outputs": [
    {
     "name": "stdout",
     "output_type": "stream",
     "text": [
      "226.0\n",
      "TRAIN 188 WITH LOCOMOTIVE E/601 AND 7 CARS DERAILED AT MP 81.7 WHILE OPERATING EAST ON # 2 TRACK.  THE FIRST 4 CARS IN THE CONSIST COMPLETELY DERAILED, WITH THE FIRST 3 CARS ON THEIR SIDE AND THE ENGINE CAME TO REST A DISTANCE AWAY IN CONRAIL FRANKFORD YARD. THREE (3) CLASS B EMPLOYEES WERE DEADHEADING TO AND OR HOME FROM WORK AND ONE (1) TRAIN ATTENDANT ALSO RECEIVED AN INJURY. THE PRIMARY CAUSEOF THE INCIDENT REMAINS UNDER INVESTIGATION.  AMTRAKS EQUIPMENT DAMAGE IS  $27,140,000.00.\n"
     ]
    }
   ],
   "source": [
    "#3 - Most injuries\n",
    "sortedAccidents = dataFrameOfAccidents.sort_values(['TOTINJ'], ascending=[0])\n",
    "print(str(sortedAccidents['TOTINJ'].head(1).iloc[0]))\n",
    "print(str(sortedAccidents['NARRTOT'].head(1).iloc[0]))"
   ]
  },
  {
   "cell_type": "code",
   "execution_count": 94,
   "metadata": {},
   "outputs": [
    {
     "name": "stdout",
     "output_type": "stream",
     "text": [
      "49.0\n",
      "NS TRAIN Z4QG406 PULLING SOUTH ON FEC OWNED AND MAINTAINED TRACK WITH 3 UNITS, 80 LOADS, 1 EMPTY, 10,157 TONS DERAILED 49 CARS. 1 CAR (KLRX 30940) RELEASED 5 GALLONS OF ALCOHOL.\n"
     ]
    }
   ],
   "source": [
    "#4 - Most hazmat cars\n",
    "sortedAccidents = dataFrameOfAccidents.sort_values(['CARSDMG'], ascending=[0])\n",
    "print(str(sortedAccidents['CARSDMG'].head(1).iloc[0]))\n",
    "print(str(sortedAccidents['NARRTOT'].head(1).iloc[0]))"
   ]
  },
  {
   "cell_type": "code",
   "execution_count": null,
   "metadata": {
    "collapsed": true
   },
   "outputs": [],
   "source": []
  }
 ],
 "metadata": {
  "kernelspec": {
   "display_name": "Python 2",
   "language": "python",
   "name": "python2"
  },
  "language_info": {
   "codemirror_mode": {
    "name": "ipython",
    "version": 2
   },
   "file_extension": ".py",
   "mimetype": "text/x-python",
   "name": "python",
   "nbconvert_exporter": "python",
   "pygments_lexer": "ipython2",
   "version": "2.7.13"
  }
 },
 "nbformat": 4,
 "nbformat_minor": 1
}
