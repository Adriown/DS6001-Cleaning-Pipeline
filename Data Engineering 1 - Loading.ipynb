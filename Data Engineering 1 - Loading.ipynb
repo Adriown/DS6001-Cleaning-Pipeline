{
 "cells": [
  {
   "cell_type": "markdown",
   "metadata": {},
   "source": [
    "#  Data Loading\n",
    "\n",
    "### Overview\n",
    "\n",
    "Data science work starts with the acquisition of data.\n",
    "Frequently, data come from relational databases or other \n",
    "enterprise data repositiories. \n",
    "\n",
    "To obtain the data often requires credentials and authorization. \n",
    "Sometimes data use and non-disclosure agreements are necessary.\n",
    "\n",
    "While the each projet will have it own charaterics, some aspects\n",
    "apply across many projects. \n",
    "\n",
    "### Instructions\n",
    "\n",
    "This notebook provides guided instructions and exercies\n",
    "in data loading. Do the exercises yourself but you can consult\n",
    "with others in the class, use the text, and search for\n",
    "relevant materials on the web. \n",
    "\n",
    "Use of a combination of mardown and code cells to \n",
    "present your answers to the questions."
   ]
  },
  {
   "cell_type": "code",
   "execution_count": 80,
   "metadata": {
    "collapsed": true
   },
   "outputs": [],
   "source": [
    "# Start here with loading packages\n",
    "\n",
    "# Data handling\n",
    "\n",
    "import requests\n",
    "import numpy as np\n",
    "import pandas as pd\n",
    "import string as st\n",
    "\n",
    "\n",
    "\n"
   ]
  },
  {
   "cell_type": "markdown",
   "metadata": {},
   "source": [
    "# Exercise 1\n",
    "\n",
    "Go to the url http://safetydata.fra.dot.gov/ and get the rail accident data for year 2016.\n",
    "You can find the data set at the drop-down menu item:\n",
    "Downloads $\\rightarrow$ Accident Data Reported by Railroads.\n",
    "Get the data for year 2016.\n",
    "Use these data to create a pandas data frame. Answer the following questions:\n",
    "1. What are the entries in the rows?\n",
    "2. What are the columns?\n",
    "3. How many rows and columns are there?\n",
    "4. Show summaries of the data.\n",
    "\n"
   ]
  },
  {
   "cell_type": "markdown",
   "metadata": {},
   "source": [
    "## Exercise 2\n",
    "\n",
    "Repeat above but for year 2008. Compare to 2016."
   ]
  },
  {
   "cell_type": "markdown",
   "metadata": {},
   "source": [
    "# Exercise 3\n",
    "\n",
    "What are the narratives? How are they organized? \n",
    "\n",
    "1. Show the narrative for the most expensive accident\n",
    "2. Combine the narrative fields for 2016 into a list\n",
    "3. Add a new narrative variable to the data frame for 2016\n"
   ]
  }
 ],
 "metadata": {
  "kernelspec": {
   "display_name": "Python 3",
   "language": "python",
   "name": "python3"
  },
  "language_info": {
   "codemirror_mode": {
    "name": "ipython",
    "version": 3
   },
   "file_extension": ".py",
   "mimetype": "text/x-python",
   "name": "python",
   "nbconvert_exporter": "python",
   "pygments_lexer": "ipython3",
   "version": "3.6.1"
  }
 },
 "nbformat": 4,
 "nbformat_minor": 1
}
