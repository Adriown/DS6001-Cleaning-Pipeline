{
 "cells": [
  {
   "cell_type": "markdown",
   "metadata": {},
   "source": [
    "#  Data Integration\n",
    "\n",
    "### Overview\n",
    "\n",
    "Most data do not come from single sources or data sets. To do \n",
    "analysis these data sets must be integrated or merged.\n",
    "\n",
    "Database managment systems have well-developed functions for \n",
    "merging data within their framework. However, in many cases we need\n",
    "to integrate data files that are not within a database management \n",
    "system.\n",
    "\n",
    "### Instructions\n",
    "\n",
    "This notebook provides guided instructions and exercies\n",
    "in data integration. Do the exercises yourself but you can consult\n",
    "with others in the class, use the text, and search for\n",
    "relevant materials on the web. \n",
    "\n",
    "Use of a combination of mardown and code cells to \n",
    "present your answers to the questions."
   ]
  },
  {
   "cell_type": "code",
   "execution_count": 2,
   "metadata": {
    "collapsed": true
   },
   "outputs": [],
   "source": [
    "# Start here with loading packages\n",
    "\n",
    "# Data handling\n",
    "\n",
    "import requests\n",
    "import numpy as np\n",
    "import pandas as pd\n",
    "import string as st\n",
    "import os\n",
    "\n",
    "\n",
    "\n"
   ]
  },
  {
   "cell_type": "markdown",
   "metadata": {},
   "source": [
    "## Exercise 1\n",
    "\n",
    "Load the data from the files for accidents in 2014-2016 into a dataframe and get its dimensions.\n",
    "To do this do the following:\n",
    "\n",
    "1. Create a function that turns a list of paths and file names into a list of dataframes\n",
    "2. Integrate the dataframes in the list into one data frame\n",
    "3. Are there any variables that only in some of the years? If so, look at their summaries.\n",
    "\n",
    "Hint: for the first step you will need to use os.path.realpath() with pd.read_csv."
   ]
  },
  {
   "cell_type": "markdown",
   "metadata": {},
   "source": [
    "## Exercise 2\n",
    "\n",
    "1. Combine the narrative fields for the three years dataframe into a list\n",
    "2. Add a new narrative variable to the three years data frame \n",
    "3. Show the narratives from the first five accidents"
   ]
  },
  {
   "cell_type": "markdown",
   "metadata": {},
   "source": [
    "## Exercise 3\n",
    "\n",
    "Get the narratives for the following\n",
    "\n",
    "1. Most costly accident\n",
    "2. Accident with the most fatalities\n",
    "3. Accident with the most injuries\n",
    "4. Accident with the most hazmat cars damaged\n"
   ]
  }
 ],
 "metadata": {
  "kernelspec": {
   "display_name": "Python 2",
   "language": "python",
   "name": "python2"
  },
  "language_info": {
   "codemirror_mode": {
    "name": "ipython",
    "version": 2
   },
   "file_extension": ".py",
   "mimetype": "text/x-python",
   "name": "python",
   "nbconvert_exporter": "python",
   "pygments_lexer": "ipython2",
   "version": "2.7.13"
  }
 },
 "nbformat": 4,
 "nbformat_minor": 1
}
